{
 "cells": [
  {
   "cell_type": "code",
   "execution_count": 2,
   "id": "b96f4a44-9917-40a9-971a-77c52f7bd5ac",
   "metadata": {},
   "outputs": [],
   "source": [
    "# K-means: Makes clusters (unsupervised)"
   ]
  },
  {
   "cell_type": "code",
   "execution_count": 3,
   "id": "adbd335b-3be2-4c5d-9108-002a1d88eb50",
   "metadata": {},
   "outputs": [],
   "source": [
    "#The dataset contains the following columns:\n",
    "#CustomerID – Unique identifier for each customer\n",
    "#Gender – Male/Female\n",
    "#Age – Customer's age\n",
    "#Annual Income (k$) – Customer's yearly income in thousands\n",
    "#Spending Score (1-100) – Score assigned by the mall based on customer behavior and spending nature\n",
    "#To group the customers using K-means clustering, we will:\n",
    "#Preprocess the data (e.g., convert categorical data like Gender if needed).\n",
    "#Use relevant features (like Age, Income, and Spending Score).\n",
    "#Determine an optimal number of clusters using the Elbow Method.\n",
    "#Apply K-means.\n",
    "#Visualize the clusters."
   ]
  },
  {
   "cell_type": "code",
   "execution_count": 5,
   "id": "7173b7bc-b347-41ed-8d30-340ba43d270a",
   "metadata": {},
   "outputs": [],
   "source": [
    "# Import necessary libraries\n",
    "import pandas as pd\n",
    "import numpy as np\n",
    "import matplotlib.pyplot as plt\n",
    "import seaborn as sns\n",
    "from sklearn.preprocessing import LabelEncoder\n",
    "from sklearn.cluster import KMeans\n",
    "from sklearn.decomposition import PCA"
   ]
  },
  {
   "cell_type": "code",
   "execution_count": 6,
   "id": "e7abe1c1-e96c-4efb-82e7-2ba547843d3e",
   "metadata": {},
   "outputs": [],
   "source": [
    "# Load the dataset\n",
    "df = pd.read_csv(r\"C:\\Users\\TUSHAR CHOUDHARY\\Downloads\\Mall_Customers.csv\")"
   ]
  },
  {
   "cell_type": "code",
   "execution_count": 8,
   "id": "dc89ad32-f96e-49f6-b6e7-55fedbad55c1",
   "metadata": {},
   "outputs": [
    {
     "data": {
      "text/html": [
       "<div>\n",
       "<style scoped>\n",
       "    .dataframe tbody tr th:only-of-type {\n",
       "        vertical-align: middle;\n",
       "    }\n",
       "\n",
       "    .dataframe tbody tr th {\n",
       "        vertical-align: top;\n",
       "    }\n",
       "\n",
       "    .dataframe thead th {\n",
       "        text-align: right;\n",
       "    }\n",
       "</style>\n",
       "<table border=\"1\" class=\"dataframe\">\n",
       "  <thead>\n",
       "    <tr style=\"text-align: right;\">\n",
       "      <th></th>\n",
       "      <th>CustomerID</th>\n",
       "      <th>Gender</th>\n",
       "      <th>Age</th>\n",
       "      <th>Annual Income (k$)</th>\n",
       "      <th>Spending Score (1-100)</th>\n",
       "    </tr>\n",
       "  </thead>\n",
       "  <tbody>\n",
       "    <tr>\n",
       "      <th>0</th>\n",
       "      <td>1</td>\n",
       "      <td>Male</td>\n",
       "      <td>19</td>\n",
       "      <td>15</td>\n",
       "      <td>39</td>\n",
       "    </tr>\n",
       "    <tr>\n",
       "      <th>1</th>\n",
       "      <td>2</td>\n",
       "      <td>Male</td>\n",
       "      <td>21</td>\n",
       "      <td>15</td>\n",
       "      <td>81</td>\n",
       "    </tr>\n",
       "    <tr>\n",
       "      <th>2</th>\n",
       "      <td>3</td>\n",
       "      <td>Female</td>\n",
       "      <td>20</td>\n",
       "      <td>16</td>\n",
       "      <td>6</td>\n",
       "    </tr>\n",
       "    <tr>\n",
       "      <th>3</th>\n",
       "      <td>4</td>\n",
       "      <td>Female</td>\n",
       "      <td>23</td>\n",
       "      <td>16</td>\n",
       "      <td>77</td>\n",
       "    </tr>\n",
       "    <tr>\n",
       "      <th>4</th>\n",
       "      <td>5</td>\n",
       "      <td>Female</td>\n",
       "      <td>31</td>\n",
       "      <td>17</td>\n",
       "      <td>40</td>\n",
       "    </tr>\n",
       "  </tbody>\n",
       "</table>\n",
       "</div>"
      ],
      "text/plain": [
       "   CustomerID  Gender  Age  Annual Income (k$)  Spending Score (1-100)\n",
       "0           1    Male   19                  15                      39\n",
       "1           2    Male   21                  15                      81\n",
       "2           3  Female   20                  16                       6\n",
       "3           4  Female   23                  16                      77\n",
       "4           5  Female   31                  17                      40"
      ]
     },
     "execution_count": 8,
     "metadata": {},
     "output_type": "execute_result"
    }
   ],
   "source": [
    "# View basic info\n",
    "df.head() # Shows the first 5 rows"
   ]
  },
  {
   "cell_type": "code",
   "execution_count": 9,
   "id": "548d5b6a-2960-4aab-86df-52d6fd8e3492",
   "metadata": {},
   "outputs": [
    {
     "data": {
      "text/plain": [
       "<bound method DataFrame.info of      CustomerID  Gender  Age  Annual Income (k$)  Spending Score (1-100)\n",
       "0             1    Male   19                  15                      39\n",
       "1             2    Male   21                  15                      81\n",
       "2             3  Female   20                  16                       6\n",
       "3             4  Female   23                  16                      77\n",
       "4             5  Female   31                  17                      40\n",
       "..          ...     ...  ...                 ...                     ...\n",
       "195         196  Female   35                 120                      79\n",
       "196         197  Female   45                 126                      28\n",
       "197         198    Male   32                 126                      74\n",
       "198         199    Male   32                 137                      18\n",
       "199         200    Male   30                 137                      83\n",
       "\n",
       "[200 rows x 5 columns]>"
      ]
     },
     "execution_count": 9,
     "metadata": {},
     "output_type": "execute_result"
    }
   ],
   "source": [
    "df.info"
   ]
  },
  {
   "cell_type": "code",
   "execution_count": 10,
   "id": "0d5b8563-8ef1-4ba1-a373-5692e8987eea",
   "metadata": {},
   "outputs": [
    {
     "data": {
      "text/plain": [
       "CustomerID                0\n",
       "Gender                    0\n",
       "Age                       0\n",
       "Annual Income (k$)        0\n",
       "Spending Score (1-100)    0\n",
       "dtype: int64"
      ]
     },
     "execution_count": 10,
     "metadata": {},
     "output_type": "execute_result"
    }
   ],
   "source": [
    "df.isnull().sum()"
   ]
  },
  {
   "cell_type": "code",
   "execution_count": 11,
   "id": "3451e995-942c-4705-9080-dfaafe2dcf13",
   "metadata": {},
   "outputs": [
    {
     "data": {
      "text/plain": [
       "(200, 5)"
      ]
     },
     "execution_count": 11,
     "metadata": {},
     "output_type": "execute_result"
    }
   ],
   "source": [
    "df.shape"
   ]
  },
  {
   "cell_type": "code",
   "execution_count": 12,
   "id": "73175ac5-6637-459f-ac3f-cf6dadac3bf5",
   "metadata": {},
   "outputs": [],
   "source": [
    "# Encode categorical column\n",
    "# Convert 'Gender' to numerical values: Male=1, Female=0\n",
    "le = LabelEncoder()\n",
    "df['Gender'] = le.fit_transform(df['Gender'])"
   ]
  },
  {
   "cell_type": "code",
   "execution_count": 13,
   "id": "e20ae1e9-95d1-4e84-bb63-34e3300d0dc7",
   "metadata": {},
   "outputs": [],
   "source": [
    "# Select features for clustering\n",
    "# We use 'Age', 'Annual Income (k$)', and 'Spending Score (1-100)'\n",
    "X = df[['Age', 'Annual Income (k$)', 'Spending Score (1-100)']]"
   ]
  },
  {
   "cell_type": "code",
   "execution_count": 15,
   "id": "dc34d446-0dd3-4d6d-b9c8-d0755b3180f4",
   "metadata": {},
   "outputs": [],
   "source": [
    "# To group the customers using K-means clustering, we will:\n",
    "# Determine an optimal number of clusters using the Elbow Method.\n",
    "# The Elbow Method helps you find the “sweet spot” — the ideal number of clusters where your data is grouped well, but not over-complicated."
   ]
  },
  {
   "cell_type": "code",
   "execution_count": 16,
   "id": "0861d861-eac0-4bd6-af7b-dff622f621c3",
   "metadata": {},
   "outputs": [],
   "source": [
    "# Use the Elbow Method to find the optimal number of clusters\n",
    "wcss = []  # Within-cluster sum of squares"
   ]
  },
  {
   "cell_type": "code",
   "execution_count": 18,
   "id": "821eb3e9-625c-4d2a-abea-3d625abdab0e",
   "metadata": {},
   "outputs": [],
   "source": [
    "# Applying K-means"
   ]
  },
  {
   "cell_type": "code",
   "execution_count": 20,
   "id": "63db3f7f-ec8c-49f8-90fc-6423ea63ac45",
   "metadata": {},
   "outputs": [],
   "source": [
    "# It groups retail store customers based on Age, Annual Income, and Spending Score, and helps understand their behavior better."
   ]
  },
  {
   "cell_type": "code",
   "execution_count": 19,
   "id": "042993d8-cd81-480f-93d7-21d5a16cee8d",
   "metadata": {},
   "outputs": [
    {
     "name": "stderr",
     "output_type": "stream",
     "text": [
      "C:\\Users\\TUSHAR CHOUDHARY\\anaconda\\Lib\\site-packages\\sklearn\\cluster\\_kmeans.py:1419: UserWarning: KMeans is known to have a memory leak on Windows with MKL, when there are less chunks than available threads. You can avoid it by setting the environment variable OMP_NUM_THREADS=1.\n",
      "  warnings.warn(\n",
      "C:\\Users\\TUSHAR CHOUDHARY\\anaconda\\Lib\\site-packages\\sklearn\\cluster\\_kmeans.py:1419: UserWarning: KMeans is known to have a memory leak on Windows with MKL, when there are less chunks than available threads. You can avoid it by setting the environment variable OMP_NUM_THREADS=1.\n",
      "  warnings.warn(\n",
      "C:\\Users\\TUSHAR CHOUDHARY\\anaconda\\Lib\\site-packages\\sklearn\\cluster\\_kmeans.py:1419: UserWarning: KMeans is known to have a memory leak on Windows with MKL, when there are less chunks than available threads. You can avoid it by setting the environment variable OMP_NUM_THREADS=1.\n",
      "  warnings.warn(\n",
      "C:\\Users\\TUSHAR CHOUDHARY\\anaconda\\Lib\\site-packages\\sklearn\\cluster\\_kmeans.py:1419: UserWarning: KMeans is known to have a memory leak on Windows with MKL, when there are less chunks than available threads. You can avoid it by setting the environment variable OMP_NUM_THREADS=1.\n",
      "  warnings.warn(\n",
      "C:\\Users\\TUSHAR CHOUDHARY\\anaconda\\Lib\\site-packages\\sklearn\\cluster\\_kmeans.py:1419: UserWarning: KMeans is known to have a memory leak on Windows with MKL, when there are less chunks than available threads. You can avoid it by setting the environment variable OMP_NUM_THREADS=1.\n",
      "  warnings.warn(\n",
      "C:\\Users\\TUSHAR CHOUDHARY\\anaconda\\Lib\\site-packages\\sklearn\\cluster\\_kmeans.py:1419: UserWarning: KMeans is known to have a memory leak on Windows with MKL, when there are less chunks than available threads. You can avoid it by setting the environment variable OMP_NUM_THREADS=1.\n",
      "  warnings.warn(\n",
      "C:\\Users\\TUSHAR CHOUDHARY\\anaconda\\Lib\\site-packages\\sklearn\\cluster\\_kmeans.py:1419: UserWarning: KMeans is known to have a memory leak on Windows with MKL, when there are less chunks than available threads. You can avoid it by setting the environment variable OMP_NUM_THREADS=1.\n",
      "  warnings.warn(\n",
      "C:\\Users\\TUSHAR CHOUDHARY\\anaconda\\Lib\\site-packages\\sklearn\\cluster\\_kmeans.py:1419: UserWarning: KMeans is known to have a memory leak on Windows with MKL, when there are less chunks than available threads. You can avoid it by setting the environment variable OMP_NUM_THREADS=1.\n",
      "  warnings.warn(\n",
      "C:\\Users\\TUSHAR CHOUDHARY\\anaconda\\Lib\\site-packages\\sklearn\\cluster\\_kmeans.py:1419: UserWarning: KMeans is known to have a memory leak on Windows with MKL, when there are less chunks than available threads. You can avoid it by setting the environment variable OMP_NUM_THREADS=1.\n",
      "  warnings.warn(\n",
      "C:\\Users\\TUSHAR CHOUDHARY\\anaconda\\Lib\\site-packages\\sklearn\\cluster\\_kmeans.py:1419: UserWarning: KMeans is known to have a memory leak on Windows with MKL, when there are less chunks than available threads. You can avoid it by setting the environment variable OMP_NUM_THREADS=1.\n",
      "  warnings.warn(\n"
     ]
    }
   ],
   "source": [
    "# Try from 1 to 10 clusters\n",
    "for i in range(1, 11):\n",
    "    kmeans = KMeans(n_clusters=i, random_state=42, n_init=10)\n",
    "    kmeans.fit(X)\n",
    "    wcss.append(kmeans.inertia_)  # Inertia is the sum of squared distances"
   ]
  },
  {
   "cell_type": "code",
   "execution_count": 21,
   "id": "2fa51714-7da2-4fb4-bf3d-99a7fa47e726",
   "metadata": {},
   "outputs": [
    {
     "data": {
      "image/png": "[encoded data removed]",
      "text/plain": [
       "<Figure size 800x500 with 1 Axes>"
      ]
     },
     "metadata": {},
     "output_type": "display_data"
    }
   ],
   "source": [
    "# Plot the Elbow graph\n",
    "plt.figure(figsize=(8, 5))\n",
    "plt.plot(range(1, 11), wcss, marker='o')\n",
    "plt.title(\"Elbow Method for Optimal Clusters\")\n",
    "plt.xlabel(\"Number of Clusters\")\n",
    "plt.ylabel(\"WCSS\")\n",
    "plt.grid(True)\n",
    "plt.show()"
   ]
  },
  {
   "cell_type": "code",
   "execution_count": 22,
   "id": "7ed125bb-bc00-4874-9958-2f213775e96a",
   "metadata": {},
   "outputs": [],
   "source": [
    "# Note: - WCSS measures how far the customers are from the center of their group (called the centroid).\n",
    "# WCSS = \"How scattered your clusters are.\"\n",
    "# Low WCSS = points are close together in each cluster = better grouping\n",
    "# High WCSS = points are all over the place = poor grouping"
   ]
  },
  {
   "cell_type": "code",
   "execution_count": 25,
   "id": "07732849-13cd-49b7-abff-7ec3efa13495",
   "metadata": {},
   "outputs": [],
   "source": [
    "# The graph usually looks like a bent arm or an elbow\n",
    "#Elbow Graph:\n",
    "#On the X-axis → Number of Clusters (k = 1, 2, 3, …)\n",
    "#On the Y-axis → WCSS (Within-Cluster Sum of Squares)\n",
    "#As you increase the number of clusters:\n",
    "#The WCSS keeps decreasing\n",
    "#But at some point, it flattens out — meaning adding more clusters doesn’t improve things much\n",
    "#That \"bend\" or \"elbow\" in the graph is where we stop — because after that, we're just adding complexity without real improvement."
   ]
  },
  {
   "cell_type": "code",
   "execution_count": 26,
   "id": "95f26040-3649-4c50-831e-08ed22ab6c32",
   "metadata": {},
   "outputs": [],
   "source": [
    "# Interpretation: Choose the number of clusters at the 'elbow point'\n",
    "# Let's say it's 5 (you'll see this visually)"
   ]
  },
  {
   "cell_type": "code",
   "execution_count": 27,
   "id": "3c500a90-5a1e-4265-96fe-0dac1bfe899f",
   "metadata": {},
   "outputs": [
    {
     "name": "stderr",
     "output_type": "stream",
     "text": [
      "C:\\Users\\TUSHAR CHOUDHARY\\anaconda\\Lib\\site-packages\\sklearn\\cluster\\_kmeans.py:1419: UserWarning: KMeans is known to have a memory leak on Windows with MKL, when there are less chunks than available threads. You can avoid it by setting the environment variable OMP_NUM_THREADS=1.\n",
      "  warnings.warn(\n"
     ]
    }
   ],
   "source": [
    "# Apply K-means clustering with optimal clusters (e.g., 5)\n",
    "kmeans = KMeans(n_clusters=5, random_state=42, n_init=10)\n",
    "df['Cluster'] = kmeans.fit_predict(X)"
   ]
  },
  {
   "cell_type": "code",
   "execution_count": 29,
   "id": "8de10605-a89c-4f1b-bd0c-e8148db13cd6",
   "metadata": {},
   "outputs": [],
   "source": [
    "# Reduce dimensions to 2D for visualization using PCA (Principal Component Analysis)\n",
    "pca = PCA(n_components=2)\n",
    "pca_result = pca.fit_transform(X)"
   ]
  },
  {
   "cell_type": "code",
   "execution_count": 33,
   "id": "19bca178-6ac4-4758-84b5-3f1a0c36639e",
   "metadata": {},
   "outputs": [],
   "source": [
    "# Add the PCA results to the dataframe\n",
    "df['PCA1'] = pca_result[:, 0] #  values of Principal Component 1\n",
    "df['PCA2'] = pca_result[:, 1] # values of Principal Component 2"
   ]
  },
  {
   "cell_type": "code",
   "execution_count": 34,
   "id": "a518a3a7-9916-406a-8d4e-8e133da80c35",
   "metadata": {},
   "outputs": [],
   "source": [
    "# note: - \n",
    "# Adding two new columns to my DataFrame\n",
    "# These columns are:\n",
    "# 'PCA1' → Principal Component 1\n",
    "# 'PCA2' → Principal Component 2\n",
    "\n",
    "# Why am I adding them?\n",
    "# Because I used PCA (Principal Component Analysis) — a tool that reduces big data into smaller parts\n",
    "# while keeping the most important information.\n",
    "\n",
    "# My customer data had 3 features:\n",
    "# - Age\n",
    "# - Annual Income\n",
    "# - Spending Score\n",
    "\n",
    "# That's hard to visualize directly on a graph.\n",
    "# PCA transforms these into 2 new, simple features:\n",
    "# PCA1 → A smart mix of Age, Income, and Score\n",
    "# PCA2 → Another meaningful mix of those same features\n",
    "\n",
    "# These 2 new columns help me:\n",
    "# - Visualize customers in a 2D graph (PCA1 vs PCA2)\n",
    "# - Still understand their shopping patterns clearly\n",
    "\n",
    "# So this step is about simplifying the data for better plotting and analysis."
   ]
  },
  {
   "cell_type": "code",
   "execution_count": 35,
   "id": "21f166c3-ac31-421a-bc2c-f5f173164e8f",
   "metadata": {},
   "outputs": [
    {
     "data": {
      "image/png": "[encoded data removed]",
      "text/plain": [
       "<Figure size 800x600 with 1 Axes>"
      ]
     },
     "metadata": {},
     "output_type": "display_data"
    }
   ],
   "source": [
    "# Visualize the clusters using PCA components\n",
    "plt.figure(figsize=(8, 6))\n",
    "sns.scatterplot(data=df, x='PCA1', y='PCA2', hue='Cluster', palette='Set2', s=100)\n",
    "plt.title(\"Customer Segments based on Purchase History\")\n",
    "plt.xlabel(\"Principal Component 1\")\n",
    "plt.ylabel(\"Principal Component 2\")\n",
    "plt.legend(title='Cluster')\n",
    "plt.grid(True)\n",
    "plt.show()"
   ]
  },
  {
   "cell_type": "code",
   "execution_count": 36,
   "id": "fda8fa88-61fd-4b30-a038-ab8afe6d63aa",
   "metadata": {},
   "outputs": [
    {
     "name": "stdout",
     "output_type": "stream",
     "text": [
      "\n",
      "Cluster-wise Averages:\n",
      "               Age  Annual Income (k$)  Spending Score (1-100)\n",
      "Cluster                                                       \n",
      "0        45.217391           26.304348               20.913043\n",
      "1        43.088608           55.291139               49.569620\n",
      "2        32.692308           86.538462               82.128205\n",
      "3        40.666667           87.750000               17.583333\n",
      "4        25.521739           26.304348               78.565217\n"
     ]
    }
   ],
   "source": [
    "# View cluster summary statistics\n",
    "cluster_summary = df.groupby('Cluster')[['Age', 'Annual Income (k$)', 'Spending Score (1-100)']].mean()\n",
    "print(\"\\nCluster-wise Averages:\")\n",
    "print(cluster_summary)"
   ]
  },
  {
   "cell_type": "code",
   "execution_count": 38,
   "id": "caf77dba-92c4-438f-a435-1208b0161ac2",
   "metadata": {},
   "outputs": [
    {
     "data": {
      "text/html": [
       "<div>\n",
       "<style scoped>\n",
       "    .dataframe tbody tr th:only-of-type {\n",
       "        vertical-align: middle;\n",
       "    }\n",
       "\n",
       "    .dataframe tbody tr th {\n",
       "        vertical-align: top;\n",
       "    }\n",
       "\n",
       "    .dataframe thead th {\n",
       "        text-align: right;\n",
       "    }\n",
       "</style>\n",
       "<table border=\"1\" class=\"dataframe\">\n",
       "  <thead>\n",
       "    <tr style=\"text-align: right;\">\n",
       "      <th></th>\n",
       "      <th>Age</th>\n",
       "      <th>Annual Income (k$)</th>\n",
       "      <th>Spending Score (1-100)</th>\n",
       "    </tr>\n",
       "    <tr>\n",
       "      <th>Cluster</th>\n",
       "      <th></th>\n",
       "      <th></th>\n",
       "      <th></th>\n",
       "    </tr>\n",
       "  </thead>\n",
       "  <tbody>\n",
       "    <tr>\n",
       "      <th>0</th>\n",
       "      <td>45.217391</td>\n",
       "      <td>26.304348</td>\n",
       "      <td>20.913043</td>\n",
       "    </tr>\n",
       "    <tr>\n",
       "      <th>1</th>\n",
       "      <td>43.088608</td>\n",
       "      <td>55.291139</td>\n",
       "      <td>49.569620</td>\n",
       "    </tr>\n",
       "    <tr>\n",
       "      <th>2</th>\n",
       "      <td>32.692308</td>\n",
       "      <td>86.538462</td>\n",
       "      <td>82.128205</td>\n",
       "    </tr>\n",
       "    <tr>\n",
       "      <th>3</th>\n",
       "      <td>40.666667</td>\n",
       "      <td>87.750000</td>\n",
       "      <td>17.583333</td>\n",
       "    </tr>\n",
       "    <tr>\n",
       "      <th>4</th>\n",
       "      <td>25.521739</td>\n",
       "      <td>26.304348</td>\n",
       "      <td>78.565217</td>\n",
       "    </tr>\n",
       "  </tbody>\n",
       "</table>\n",
       "</div>"
      ],
      "text/plain": [
       "               Age  Annual Income (k$)  Spending Score (1-100)\n",
       "Cluster                                                       \n",
       "0        45.217391           26.304348               20.913043\n",
       "1        43.088608           55.291139               49.569620\n",
       "2        32.692308           86.538462               82.128205\n",
       "3        40.666667           87.750000               17.583333\n",
       "4        25.521739           26.304348               78.565217"
      ]
     },
     "execution_count": 38,
     "metadata": {},
     "output_type": "execute_result"
    }
   ],
   "source": [
    "cluster_summary  # Shows average values of features within each cluster"
   ]
  },
  {
   "cell_type": "code",
   "execution_count": 39,
   "id": "8aa7dfda-d11a-443f-a4b7-309fadcb0240",
   "metadata": {},
   "outputs": [],
   "source": [
    "# Save the clustered data to a new CSV file\n",
    "df.to_csv(\"Clustered_Customers.csv\", index=False)"
   ]
  },
  {
   "cell_type": "code",
   "execution_count": 40,
   "id": "448d2b6f-c9e5-4602-ad3e-5588e2686a8c",
   "metadata": {},
   "outputs": [],
   "source": [
    "# Load the data\n",
    "df = pd.read_csv(\"Clustered_Customers.csv\")"
   ]
  },
  {
   "cell_type": "code",
   "execution_count": 41,
   "id": "c1e46350-a9bc-443e-ad0a-acf04f3df37b",
   "metadata": {},
   "outputs": [
    {
     "data": {
      "text/html": [
       "<div>\n",
       "<style scoped>\n",
       "    .dataframe tbody tr th:only-of-type {\n",
       "        vertical-align: middle;\n",
       "    }\n",
       "\n",
       "    .dataframe tbody tr th {\n",
       "        vertical-align: top;\n",
       "    }\n",
       "\n",
       "    .dataframe thead th {\n",
       "        text-align: right;\n",
       "    }\n",
       "</style>\n",
       "<table border=\"1\" class=\"dataframe\">\n",
       "  <thead>\n",
       "    <tr style=\"text-align: right;\">\n",
       "      <th></th>\n",
       "      <th>CustomerID</th>\n",
       "      <th>Gender</th>\n",
       "      <th>Age</th>\n",
       "      <th>Annual Income (k$)</th>\n",
       "      <th>Spending Score (1-100)</th>\n",
       "      <th>Cluster</th>\n",
       "      <th>PCA1</th>\n",
       "      <th>PCA2</th>\n",
       "    </tr>\n",
       "  </thead>\n",
       "  <tbody>\n",
       "    <tr>\n",
       "      <th>0</th>\n",
       "      <td>1</td>\n",
       "      <td>1</td>\n",
       "      <td>19</td>\n",
       "      <td>15</td>\n",
       "      <td>39</td>\n",
       "      <td>0</td>\n",
       "      <td>-31.870508</td>\n",
       "      <td>-33.001425</td>\n",
       "    </tr>\n",
       "    <tr>\n",
       "      <th>1</th>\n",
       "      <td>2</td>\n",
       "      <td>1</td>\n",
       "      <td>21</td>\n",
       "      <td>15</td>\n",
       "      <td>81</td>\n",
       "      <td>4</td>\n",
       "      <td>0.763397</td>\n",
       "      <td>-56.843865</td>\n",
       "    </tr>\n",
       "    <tr>\n",
       "      <th>2</th>\n",
       "      <td>3</td>\n",
       "      <td>0</td>\n",
       "      <td>20</td>\n",
       "      <td>16</td>\n",
       "      <td>6</td>\n",
       "      <td>0</td>\n",
       "      <td>-57.408726</td>\n",
       "      <td>-13.122936</td>\n",
       "    </tr>\n",
       "    <tr>\n",
       "      <th>3</th>\n",
       "      <td>4</td>\n",
       "      <td>0</td>\n",
       "      <td>23</td>\n",
       "      <td>16</td>\n",
       "      <td>77</td>\n",
       "      <td>4</td>\n",
       "      <td>-2.169896</td>\n",
       "      <td>-53.477905</td>\n",
       "    </tr>\n",
       "    <tr>\n",
       "      <th>4</th>\n",
       "      <td>5</td>\n",
       "      <td>0</td>\n",
       "      <td>31</td>\n",
       "      <td>17</td>\n",
       "      <td>40</td>\n",
       "      <td>0</td>\n",
       "      <td>-32.174920</td>\n",
       "      <td>-30.387005</td>\n",
       "    </tr>\n",
       "    <tr>\n",
       "      <th>...</th>\n",
       "      <td>...</td>\n",
       "      <td>...</td>\n",
       "      <td>...</td>\n",
       "      <td>...</td>\n",
       "      <td>...</td>\n",
       "      <td>...</td>\n",
       "      <td>...</td>\n",
       "      <td>...</td>\n",
       "    </tr>\n",
       "    <tr>\n",
       "      <th>195</th>\n",
       "      <td>196</td>\n",
       "      <td>0</td>\n",
       "      <td>35</td>\n",
       "      <td>120</td>\n",
       "      <td>79</td>\n",
       "      <td>2</td>\n",
       "      <td>58.353072</td>\n",
       "      <td>31.016926</td>\n",
       "    </tr>\n",
       "    <tr>\n",
       "      <th>196</th>\n",
       "      <td>197</td>\n",
       "      <td>0</td>\n",
       "      <td>45</td>\n",
       "      <td>126</td>\n",
       "      <td>28</td>\n",
       "      <td>3</td>\n",
       "      <td>19.909355</td>\n",
       "      <td>66.446425</td>\n",
       "    </tr>\n",
       "    <tr>\n",
       "      <th>197</th>\n",
       "      <td>198</td>\n",
       "      <td>1</td>\n",
       "      <td>32</td>\n",
       "      <td>126</td>\n",
       "      <td>74</td>\n",
       "      <td>2</td>\n",
       "      <td>58.521858</td>\n",
       "      <td>38.343853</td>\n",
       "    </tr>\n",
       "    <tr>\n",
       "      <th>198</th>\n",
       "      <td>199</td>\n",
       "      <td>1</td>\n",
       "      <td>32</td>\n",
       "      <td>137</td>\n",
       "      <td>18</td>\n",
       "      <td>3</td>\n",
       "      <td>20.981105</td>\n",
       "      <td>79.375146</td>\n",
       "    </tr>\n",
       "    <tr>\n",
       "      <th>199</th>\n",
       "      <td>200</td>\n",
       "      <td>1</td>\n",
       "      <td>30</td>\n",
       "      <td>137</td>\n",
       "      <td>83</td>\n",
       "      <td>2</td>\n",
       "      <td>72.448826</td>\n",
       "      <td>41.808833</td>\n",
       "    </tr>\n",
       "  </tbody>\n",
       "</table>\n",
       "<p>200 rows × 8 columns</p>\n",
       "</div>"
      ],
      "text/plain": [
       "     CustomerID  Gender  Age  Annual Income (k$)  Spending Score (1-100)  \\\n",
       "0             1       1   19                  15                      39   \n",
       "1             2       1   21                  15                      81   \n",
       "2             3       0   20                  16                       6   \n",
       "3             4       0   23                  16                      77   \n",
       "4             5       0   31                  17                      40   \n",
       "..          ...     ...  ...                 ...                     ...   \n",
       "195         196       0   35                 120                      79   \n",
       "196         197       0   45                 126                      28   \n",
       "197         198       1   32                 126                      74   \n",
       "198         199       1   32                 137                      18   \n",
       "199         200       1   30                 137                      83   \n",
       "\n",
       "     Cluster       PCA1       PCA2  \n",
       "0          0 -31.870508 -33.001425  \n",
       "1          4   0.763397 -56.843865  \n",
       "2          0 -57.408726 -13.122936  \n",
       "3          4  -2.169896 -53.477905  \n",
       "4          0 -32.174920 -30.387005  \n",
       "..       ...        ...        ...  \n",
       "195        2  58.353072  31.016926  \n",
       "196        3  19.909355  66.446425  \n",
       "197        2  58.521858  38.343853  \n",
       "198        3  20.981105  79.375146  \n",
       "199        2  72.448826  41.808833  \n",
       "\n",
       "[200 rows x 8 columns]"
      ]
     },
     "execution_count": 41,
     "metadata": {},
     "output_type": "execute_result"
    }
   ],
   "source": [
    "df"
   ]
  },
  {
   "cell_type": "code",
   "execution_count": 42,
   "id": "f29a8093-4b24-40d6-8f47-db7622b41c88",
   "metadata": {},
   "outputs": [
    {
     "data": {
      "text/html": [
       "<div>\n",
       "<style scoped>\n",
       "    .dataframe tbody tr th:only-of-type {\n",
       "        vertical-align: middle;\n",
       "    }\n",
       "\n",
       "    .dataframe tbody tr th {\n",
       "        vertical-align: top;\n",
       "    }\n",
       "\n",
       "    .dataframe thead th {\n",
       "        text-align: right;\n",
       "    }\n",
       "</style>\n",
       "<table border=\"1\" class=\"dataframe\">\n",
       "  <thead>\n",
       "    <tr style=\"text-align: right;\">\n",
       "      <th></th>\n",
       "      <th>CustomerID</th>\n",
       "      <th>Gender</th>\n",
       "      <th>Age</th>\n",
       "      <th>Annual Income (k$)</th>\n",
       "      <th>Spending Score (1-100)</th>\n",
       "      <th>Cluster</th>\n",
       "      <th>PCA1</th>\n",
       "      <th>PCA2</th>\n",
       "    </tr>\n",
       "  </thead>\n",
       "  <tbody>\n",
       "    <tr>\n",
       "      <th>0</th>\n",
       "      <td>1</td>\n",
       "      <td>1</td>\n",
       "      <td>19</td>\n",
       "      <td>15</td>\n",
       "      <td>39</td>\n",
       "      <td>0</td>\n",
       "      <td>-31.870508</td>\n",
       "      <td>-33.001425</td>\n",
       "    </tr>\n",
       "    <tr>\n",
       "      <th>1</th>\n",
       "      <td>2</td>\n",
       "      <td>1</td>\n",
       "      <td>21</td>\n",
       "      <td>15</td>\n",
       "      <td>81</td>\n",
       "      <td>4</td>\n",
       "      <td>0.763397</td>\n",
       "      <td>-56.843865</td>\n",
       "    </tr>\n",
       "    <tr>\n",
       "      <th>2</th>\n",
       "      <td>3</td>\n",
       "      <td>0</td>\n",
       "      <td>20</td>\n",
       "      <td>16</td>\n",
       "      <td>6</td>\n",
       "      <td>0</td>\n",
       "      <td>-57.408726</td>\n",
       "      <td>-13.122936</td>\n",
       "    </tr>\n",
       "    <tr>\n",
       "      <th>3</th>\n",
       "      <td>4</td>\n",
       "      <td>0</td>\n",
       "      <td>23</td>\n",
       "      <td>16</td>\n",
       "      <td>77</td>\n",
       "      <td>4</td>\n",
       "      <td>-2.169896</td>\n",
       "      <td>-53.477905</td>\n",
       "    </tr>\n",
       "    <tr>\n",
       "      <th>4</th>\n",
       "      <td>5</td>\n",
       "      <td>0</td>\n",
       "      <td>31</td>\n",
       "      <td>17</td>\n",
       "      <td>40</td>\n",
       "      <td>0</td>\n",
       "      <td>-32.174920</td>\n",
       "      <td>-30.387005</td>\n",
       "    </tr>\n",
       "  </tbody>\n",
       "</table>\n",
       "</div>"
      ],
      "text/plain": [
       "   CustomerID  Gender  Age  Annual Income (k$)  Spending Score (1-100)  \\\n",
       "0           1       1   19                  15                      39   \n",
       "1           2       1   21                  15                      81   \n",
       "2           3       0   20                  16                       6   \n",
       "3           4       0   23                  16                      77   \n",
       "4           5       0   31                  17                      40   \n",
       "\n",
       "   Cluster       PCA1       PCA2  \n",
       "0        0 -31.870508 -33.001425  \n",
       "1        4   0.763397 -56.843865  \n",
       "2        0 -57.408726 -13.122936  \n",
       "3        4  -2.169896 -53.477905  \n",
       "4        0 -32.174920 -30.387005  "
      ]
     },
     "execution_count": 42,
     "metadata": {},
     "output_type": "execute_result"
    }
   ],
   "source": [
    "df.head()"
   ]
  },
  {
   "cell_type": "code",
   "execution_count": null,
   "id": "2e8bae65-be71-4147-b695-85e2ee333b6f",
   "metadata": {},
   "outputs": [],
   "source": []
  }
 ],
 "metadata": {
  "kernelspec": {
   "display_name": "Python 3 (ipykernel)",
   "language": "python",
   "name": "python3"
  },
  "language_info": {
   "codemirror_mode": {
    "name": "ipython",
    "version": 3
   },
   "file_extension": ".py",
   "mimetype": "text/x-python",
   "name": "python",
   "nbconvert_exporter": "python",
   "pygments_lexer": "ipython3",
   "version": "3.11.7"
  }
 },
 "nbformat": 4,
 "nbformat_minor": 5
}
